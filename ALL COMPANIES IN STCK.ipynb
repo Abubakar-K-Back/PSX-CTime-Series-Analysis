{
 "cells": [
  {
   "cell_type": "markdown",
   "metadata": {},
   "source": [
    "# Auto Arima for All companies 3"
   ]
  },
  {
   "cell_type": "code",
   "execution_count": 1,
   "metadata": {
    "collapsed": true
   },
   "outputs": [],
   "source": [
    "import numpy as np # linear algebra\n",
    "import pandas as pd # data processing, CSV file I/O (e.g. pd.read_csv)\n",
    "import os\n",
    "from subprocess import check_output\n",
    "import seaborn as sns\n",
    "import matplotlib.pyplot as plt\n",
    "import warnings\n",
    "from pandas.plotting import lag_plot\n",
    "from pandas import datetime\n",
    "from statsmodels.tsa.arima_model import ARIMA\n",
    "from sklearn.metrics import mean_squared_error"
   ]
  },
  {
   "cell_type": "code",
   "execution_count": 2,
   "metadata": {
    "collapsed": true
   },
   "outputs": [],
   "source": [
    "#df=pd.read_csv('C:/Users/Abubakar/Desktop/Desktop Docs/PSX/OGDC.csv')\n",
    "#TRAIN TEST SPLITTING\n",
    "def traintestsplit():\n",
    "    trainData, testData = df[0:int(len(df)*0.8)], df[int(len(df)*0.8):]\n",
    "    return trainData,testData\n",
    "\n",
    "#PREDICTION FUNCTIONS\n",
    "def smape_kun(y_true, y_pred):#mean values\n",
    "    return np.mean((np.abs(y_pred - y_true) * 200/ (np.abs(y_pred) + np.abs(y_true))))\n",
    "\n",
    "\n",
    "def predictions(trainData,testData):#Auto Arima Algorithm\n",
    "    training = trainData['Open'].values\n",
    "    test_ar = testData['Open'].values\n",
    "    psthist = [x for x in training]\n",
    "    print(type(psthist))\n",
    "    predicted = list()\n",
    "    for t in range(len(test_ar)):\n",
    "        model = ARIMA(psthist, order=(5,1,0))\n",
    "        model_fit = model.fit(disp=0)\n",
    "        output = model_fit.forecast()\n",
    "        yhat = output[0]\n",
    "        predicted.append(yhat)\n",
    "        obs = test_ar[t]\n",
    "        psthist.append(obs)\n",
    "        #print('predicted=%f, expected=%f' % (yhat, obs))\n",
    "    err = mean_squared_error(test_ar, predicted)\n",
    "    print('Testing Mean Squared err: %.3f' % err)\n",
    "    err2 = smape_kun(test_ar, predicted)\n",
    "    print('Symmetric mean absolute percentage err: %.3f' % err2)\n",
    "    return predicted\n",
    "\n",
    "\n",
    "\n"
   ]
  },
  {
   "cell_type": "code",
   "execution_count": 3,
   "metadata": {
    "collapsed": true
   },
   "outputs": [],
   "source": [
    "trainData, testData = df[0:int(len(df)*0.8)], df[int(len(df)*0.8):]"
   ]
  },
  {
   "cell_type": "code",
   "execution_count": 4,
   "metadata": {
    "collapsed": true
   },
   "outputs": [],
   "source": [
    "import glob"
   ]
  },
  {
   "cell_type": "code",
   "execution_count": null,
   "metadata": {
    "collapsed": true
   },
   "outputs": [],
   "source": []
  },
  {
   "cell_type": "code",
   "execution_count": 5,
   "metadata": {
    "collapsed": true
   },
   "outputs": [],
   "source": [
    "APredictions=[]\n",
    "Testdatas=[]\n",
    "TrainDatas=[]\n",
    "Symbols=[]\n",
    "Figures=[]"
   ]
  },
  {
   "cell_type": "code",
   "execution_count": 6,
   "metadata": {},
   "outputs": [
    {
     "name": "stdout",
     "output_type": "stream",
     "text": [
      "<class 'list'>\n",
      "Testing Mean Squared err: 18.119\n",
      "Symmetric mean absolute percentage err: 28.738\n",
      "prediction done...mpc\\HBL.csv\n"
     ]
    }
   ],
   "source": [
    "path = r'C:/Users/Abubakar/Desktop/mpc' # use your path\n",
    "all_files = glob.glob(path + \"/*.csv\")\n",
    "\n",
    "for filename in all_files:#pushing all data files into the algorithm one by one\n",
    "    df = pd.read_csv(filename, index_col=None, header=0)\n",
    "    trainData, testData = df[0:int(len(df)*0.8)], df[int(len(df)*0.8):]\n",
    "    Testdatas.append(testData)#STORING TEST DATA\n",
    "    TrainDatas.append(trainData)#STORING TRAIN DATA\n",
    "    \n",
    "    predicted=predictions(trainData,testData)\n",
    "    APredictions.append(predicted)#STORING PREDICTIONS\n",
    "    symb=filename.rsplit('/', 1)[1]\n",
    "    Symbols.append(symb)#STORING SYMBOLS OF COMPANIES\n",
    "    \n",
    "    \n",
    "    print(\"prediction done...\"+symb)\n",
    "    \n",
    "    "
   ]
  },
  {
   "cell_type": "code",
   "execution_count": 29,
   "metadata": {},
   "outputs": [
    {
     "data": {
      "text/plain": [
       "array([260.4 , 266.  , 268.8 , 276.02, 276.  , 268.55, 271.8 , 264.98,\n",
       "       254.  , 260.3 , 270.11, 276.  , 272.2 , 269.  , 272.01, 271.5 ,\n",
       "       275.5 , 275.  , 280.  , 288.8 , 292.  , 309.  , 302.75, 307.86,\n",
       "       308.61, 307.5 , 310.  , 300.6 , 293.8 , 293.  , 290.44, 302.  ,\n",
       "       304.5 , 307.89, 305.51, 298.11, 292.  , 285.98, 271.  , 258.  ,\n",
       "       256.  , 268.  , 274.  , 269.98, 259.31, 259.  , 249.98, 261.5 ,\n",
       "       263.  , 268.  , 263.  , 256.99, 241.55, 244.25, 251.25, 266.  ,\n",
       "       270.  , 255.01, 252.71, 247.  , 245.  , 241.01, 247.  , 236.01,\n",
       "       243.11, 248.55, 253.5 , 251.02, 254.  , 254.95, 250.8 , 253.13,\n",
       "       252.1 , 253.5 , 251.99, 245.1 , 251.  , 231.  , 232.51, 235.5 ,\n",
       "       238.47, 237.99, 236.51, 235.  , 232.48, 228.5 , 227.  , 223.88,\n",
       "       223.97, 217.25, 214.9 , 212.2 , 210.6 , 219.99, 217.9 , 207.21,\n",
       "       196.85, 187.01, 177.66, 168.78, 162.  , 157.1 , 160.58, 168.6 ,\n",
       "       177.  , 183.  , 185.9 , 186.01, 196.49, 192.6 , 190.26, 187.01,\n",
       "       183.01, 185.09, 185.8 , 179.07, 180.  , 180.  , 180.76, 176.1 ,\n",
       "       171.99, 170.05, 171.75, 173.  , 175.58, 173.26, 168.  , 166.01,\n",
       "       169.99, 171.  , 168.7 , 168.  , 168.06, 170.2 , 172.95, 171.  ,\n",
       "       169.75, 170.5 , 167.  , 162.  , 161.  , 164.  , 162.3 , 169.01,\n",
       "       164.99, 166.75, 168.  , 168.06, 167.75, 169.4 , 168.99, 166.98,\n",
       "       168.  , 167.95, 165.02, 167.8 , 166.01, 163.64, 164.  , 163.9 ,\n",
       "       161.91, 162.48, 162.  , 161.65, 160.  , 159.  , 148.25, 155.  ,\n",
       "       151.01, 156.5 , 154.35, 156.35, 159.95, 159.9 , 161.  , 167.25,\n",
       "       172.  , 169.99, 171.  , 170.5 , 167.68, 168.99, 173.95, 178.6 ,\n",
       "       177.9 , 181.5 , 186.82, 192.15, 186.9 , 192.  , 192.  , 193.35,\n",
       "       190.  , 195.  , 202.01, 204.5 , 206.85, 208.5 , 205.  , 210.1 ,\n",
       "       208.1 , 206.  , 204.2 , 194.89, 195.  , 198.  , 195.55, 195.5 ,\n",
       "       193.06, 190.87, 195.5 , 191.51, 197.2 , 203.47, 203.  , 213.  ,\n",
       "       211.51, 209.6 , 202.11, 215.  , 212.84, 203.53, 208.9 , 208.  ,\n",
       "       208.  , 210.  , 212.  , 208.8 , 205.06, 202.07, 204.  , 205.5 ,\n",
       "       205.4 , 200.08, 200.02, 200.55, 197.6 , 205.25, 211.89, 211.  ,\n",
       "       211.  , 209.56, 208.88, 209.4 , 210.4 , 207.5 , 207.5 , 210.  ,\n",
       "       221.  , 218.  , 215.05, 217.  , 215.01, 209.6 , 207.05, 208.99,\n",
       "       206.  , 198.01, 200.  , 198.  , 198.05, 200.79, 199.99, 197.  ,\n",
       "       197.22, 196.  , 191.25, 183.1 , 180.  , 177.05, 177.1 , 177.01,\n",
       "       172.31, 175.5 , 170.46, 170.95, 169.12, 169.  , 170.9 , 171.  ,\n",
       "       175.6 , 174.  , 173.01, 173.95, 168.52, 174.  , 169.05, 165.  ,\n",
       "       172.  , 175.  , 181.  , 190.  , 184.99, 187.03, 182.5 , 183.6 ,\n",
       "       181.99, 179.39, 172.  , 167.78, 163.86, 165.79, 166.7 , 164.1 ,\n",
       "       164.  , 167.89, 169.39, 166.5 , 162.7 , 163.89, 162.  , 157.05,\n",
       "       160.  , 158.3 , 159.  , 170.  , 163.5 , 164.5 , 175.  , 175.  ,\n",
       "       170.  , 167.  , 175.  , 173.49, 183.  , 185.52, 175.3 , 176.95,\n",
       "       161.5 , 162.7 , 163.8 , 161.25, 160.28, 161.98, 161.2 , 158.88,\n",
       "       155.4 , 152.02, 152.98, 155.  , 153.  , 153.9 , 153.94, 154.  ,\n",
       "       151.75, 151.5 , 151.7 , 152.3 , 152.72, 154.9 , 151.21, 148.89,\n",
       "       148.49, 147.  , 148.5 , 144.69, 143.98, 146.  , 147.5 , 148.99,\n",
       "       149.  , 147.  , 148.  , 152.5 , 152.79, 149.56, 148.99, 144.15,\n",
       "       140.51, 136.  , 137.79, 138.49, 132.61, 131.25, 130.5 , 129.49,\n",
       "       128.55, 126.61, 127.8 , 128.25, 129.  , 133.  , 125.  , 135.1 ,\n",
       "       139.  , 145.1 , 145.  , 144.2 , 146.5 , 145.42, 144.  , 144.  ,\n",
       "       138.72, 141.  , 138.  , 137.  , 140.  , 146.5 , 144.  , 143.99,\n",
       "       140.5 , 135.15, 137.  , 139.9 , 143.4 , 141.5 , 142.5 , 141.51,\n",
       "       135.9 , 138.75, 136.2 , 132.  , 134.  , 137.  , 133.  , 131.  ,\n",
       "       129.8 , 131.  , 127.51, 125.49, 126.49, 125.  , 124.4 , 124.5 ,\n",
       "       126.  , 121.79, 119.06, 119.35, 123.97, 123.5 , 123.  , 126.  ,\n",
       "       130.2 , 131.  , 132.  , 132.  , 133.5 , 134.25, 134.  , 135.98,\n",
       "       135.49, 134.05, 138.1 , 142.9 , 149.  , 148.95, 149.5 , 149.4 ,\n",
       "       148.7 , 149.  , 149.95, 150.71, 152.1 , 150.  , 149.49, 148.  ,\n",
       "       142.9 , 140.98, 140.2 , 141.99, 142.  , 140.99, 136.01, 140.19,\n",
       "       135.13, 134.  , 130.  , 128.  , 131.5 , 132.  , 136.01, 138.  ,\n",
       "       137.  , 137.8 , 136.99, 136.99, 136.1 , 134.49, 133.76, 134.06,\n",
       "       132.5 , 137.  , 136.2 , 135.  , 136.99, 137.25, 136.9 , 136.5 ,\n",
       "       135.97, 134.  , 132.9 , 132.05, 129.5 , 126.55, 125.01, 124.6 ,\n",
       "       125.5 , 124.99, 123.89, 125.  , 126.  , 129.  , 127.  , 121.25,\n",
       "       124.  , 128.4 , 123.51, 121.5 , 122.51, 126.92, 127.75, 128.49,\n",
       "       126.52, 125.55, 122.4 , 121.21, 128.  , 125.9 , 124.06, 124.9 ,\n",
       "       125.4 , 122.25, 122.5 , 121.9 , 120.88, 122.65, 120.  , 126.05,\n",
       "       127.13, 126.  , 126.74, 122.97, 124.43, 123.  , 126.69, 124.89,\n",
       "       122.68, 124.  , 125.  , 124.51, 123.5 , 123.75, 122.49, 123.8 ,\n",
       "       122.29, 121.  , 120.11, 117.  , 115.  , 112.98, 115.  , 117.9 ,\n",
       "       122.  , 121.  , 119.85, 115.38, 115.98, 116.06, 119.  , 119.  ,\n",
       "       119.5 , 121.  , 122.  , 118.  , 119.  , 122.  , 122.45, 119.01,\n",
       "       121.  , 119.53, 120.4 , 119.1 , 120.95, 120.9 , 117.5 , 115.5 ,\n",
       "       116.94, 113.94, 111.5 , 103.31, 106.45, 112.  , 118.5 , 120.  ,\n",
       "       121.  , 117.  , 115.  , 113.89, 114.  , 112.24])"
      ]
     },
     "execution_count": 29,
     "metadata": {},
     "output_type": "execute_result"
    }
   ],
   "source": [
    "Testdatas[0].Open.values"
   ]
  },
  {
   "cell_type": "markdown",
   "metadata": {},
   "source": [
    " "
   ]
  },
  {
   "cell_type": "code",
   "execution_count": 45,
   "metadata": {
    "collapsed": true
   },
   "outputs": [],
   "source": [
    "dftrue=pd.DataFrame()"
   ]
  },
  {
   "cell_type": "code",
   "execution_count": 54,
   "metadata": {
    "collapsed": true
   },
   "outputs": [],
   "source": [
    "for p in range(len(Testdatas[0].Open.values)):\n",
    "    dftrue.at[p,'True']=Testdatas[0].Open.values[p]\n",
    "    dftrue.at[p,'Date']=Testdatas[0].Date.values[p]\n",
    "    "
   ]
  },
  {
   "cell_type": "code",
   "execution_count": 58,
   "metadata": {
    "collapsed": true
   },
   "outputs": [],
   "source": [
    "dfpred=pd.DataFrame()\n",
    "for p in range(len(APredictions[0])):\n",
    "    dfpred.at[p,'Predicted']=APredictions[0][p]\n"
   ]
  },
  {
   "cell_type": "code",
   "execution_count": 63,
   "metadata": {
    "collapsed": true
   },
   "outputs": [],
   "source": [
    "dftrue.to_csv (r'C:/Users/Abubakar/Desktop/true.csv', index = False, header=True)"
   ]
  },
  {
   "cell_type": "code",
   "execution_count": 64,
   "metadata": {
    "collapsed": true
   },
   "outputs": [],
   "source": [
    "dfpred.to_csv (r'C:/Users/Abubakar/Desktop/pred.csv', index = False, header=True)"
   ]
  },
  {
   "cell_type": "code",
   "execution_count": 75,
   "metadata": {},
   "outputs": [
    {
     "data": {
      "text/plain": [
       "Predicted   NaN\n",
       "True        NaN\n",
       "dtype: float64"
      ]
     },
     "execution_count": 75,
     "metadata": {},
     "output_type": "execute_result"
    }
   ],
   "source": [
    "dfpred.mean()/dftrue.mean()"
   ]
  },
  {
   "cell_type": "code",
   "execution_count": 83,
   "metadata": {
    "collapsed": true
   },
   "outputs": [],
   "source": [
    "p=dftrue.values"
   ]
  },
  {
   "cell_type": "code",
   "execution_count": 94,
   "metadata": {},
   "outputs": [
    {
     "data": {
      "text/plain": [
       "0.9202493865592031"
      ]
     },
     "execution_count": 94,
     "metadata": {},
     "output_type": "execute_result"
    }
   ],
   "source": [
    "159.452906/173.271407"
   ]
  },
  {
   "cell_type": "code",
   "execution_count": null,
   "metadata": {
    "collapsed": true
   },
   "outputs": [],
   "source": []
  }
 ],
 "metadata": {
  "kernelspec": {
   "display_name": "Python 3",
   "language": "python",
   "name": "python3"
  },
  "language_info": {
   "codemirror_mode": {
    "name": "ipython",
    "version": 3
   },
   "file_extension": ".py",
   "mimetype": "text/x-python",
   "name": "python",
   "nbconvert_exporter": "python",
   "pygments_lexer": "ipython3",
   "version": "3.5.4"
  }
 },
 "nbformat": 4,
 "nbformat_minor": 2
}
